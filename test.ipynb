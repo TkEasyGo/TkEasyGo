{
 "cells": [
  {
   "cell_type": "code",
   "execution_count": 1,
   "metadata": {},
   "outputs": [],
   "source": [
    "import sys\n",
    "import os\n",
    "\n",
    "# 添加项目根目录到sys.path\n",
    "sys.path.append( '..')\n",
    "from simplegui.core import SimpleWindow, SimpleVariable"
   ]
  },
  {
   "cell_type": "code",
   "execution_count": 2,
   "metadata": {},
   "outputs": [
    {
     "name": "stdout",
     "output_type": "stream",
     "text": [
      "Current progress value: 0\n",
      "Current progress value: 10\n",
      "Current progress value: 20\n",
      "Current progress value: 30\n",
      "Current progress value: 40\n",
      "Current progress value: 50\n",
      "Current progress value: 60\n",
      "Current progress value: 70\n",
      "Current progress value: 80\n",
      "Current progress value: 90\n",
      "Current progress value: 100\n",
      "Progress is already at 100%\n",
      "Current progress value: 100\n",
      "Progress is already at 100%\n",
      "Current progress value: 100\n",
      "Progress is already at 100%\n"
     ]
    }
   ],
   "source": [
    "from simplegui.core import SimpleWindow, SimpleVariable\n",
    "\n",
    "def progress_bar_app():\n",
    "    # 创建窗口\n",
    "    window = SimpleWindow(title=\"Progressbar Example\", width=400, height=300)\n",
    "    \n",
    "    # 初始进度值\n",
    "    progress_value = SimpleVariable(0)\n",
    "    \n",
    "    # 添加进度条\n",
    "    progressbar = window.add_progressbar(value=progress_value.get(), row=0, column=0, columnspan=2)\n",
    "    \n",
    "    # 添加按钮以更新进度条\n",
    "    def update_progress():\n",
    "        current_value = int(progress_value.get())\n",
    "        print(f\"Current progress value: {current_value}\")\n",
    "        if int(current_value) < 100:\n",
    "            progress_value.set(current_value + 10)\n",
    "            progressbar.config(value=progress_value.get())\n",
    "        else:\n",
    "            print(\"Progress is already at 100%\")\n",
    "    \n",
    "    window.add_button(\"Update Progress\", update_progress, row=1, column=0, columnspan=2)\n",
    "    \n",
    "    # 运行窗口\n",
    "    window.run()\n",
    "\n",
    "if __name__ == \"__main__\":\n",
    "    progress_bar_app()\n"
   ]
  },
  {
   "cell_type": "code",
   "execution_count": 4,
   "metadata": {},
   "outputs": [],
   "source": [
    "import os\n",
    "\n",
    "def print_folder_tree(path, depth=0):\n",
    "    files = []\n",
    "    items = os.listdir(path)\n",
    "    for index, i in enumerate(items):\n",
    "        # 是否是最后一个元素\n",
    "        is_last = index == len(items) - 1\n",
    "        # 拼接文件路径\n",
    "        i_path = path + \"/\" + i\n",
    "        # 根据层数打印空格\n",
    "        print(\"   \" * depth,end=\"\")\n",
    "        if is_last:\n",
    "            print(\"└── \", end=\"\")\n",
    "        else:\n",
    "            print(\"├── \", end=\"\")\n",
    "        # 如果是文件夹, 递归\n",
    "        if os.path.isdir(i_path):\n",
    "            print(i)\n",
    "            files.extend(print_folder_tree(path=i_path, depth=depth + 1))\n",
    "        # 如果是文件就把路径添加到files数组\n",
    "        else:\n",
    "            print(i_path.split(\"/\")[-1])\n",
    "            files.append(i_path)\n",
    "    return files  \n",
    "\n",
    "\n"
   ]
  },
  {
   "cell_type": "code",
   "execution_count": 8,
   "metadata": {},
   "outputs": [
    {
     "name": "stdout",
     "output_type": "stream",
     "text": [
      "├── docs\n",
      "   └── docs.md\n",
      "├── examples\n",
      "   ├── Combobox_app.py\n",
      "   ├── event_app.py\n",
      "   ├── label_app.py\n",
      "   ├── layout_app.py\n",
      "   ├── notebook_Slider_app.py\n",
      "   ├── Progressbar_app.py\n",
      "   ├── tabbed_app.py\n",
      "   └── test_window.py\n",
      "├── LICENSE\n",
      "├── README.md\n",
      "├── setup.py\n",
      "├── simplegui\n",
      "   ├── core.py\n",
      "   ├── events.py\n",
      "   ├── layout.py\n",
      "   ├── platform.py\n",
      "   ├── themes.py\n",
      "   ├── __init__.py\n",
      "   └── __pycache__\n",
      "      ├── core.cpython-310.pyc\n",
      "      └── __init__.cpython-310.pyc\n",
      "├── test.ipynb\n",
      "└── tests\n",
      "   └── test_core.py\n"
     ]
    },
    {
     "data": {
      "text/plain": [
       "['.//docs/docs.md',\n",
       " './/examples/Combobox_app.py',\n",
       " './/examples/event_app.py',\n",
       " './/examples/label_app.py',\n",
       " './/examples/layout_app.py',\n",
       " './/examples/notebook_Slider_app.py',\n",
       " './/examples/Progressbar_app.py',\n",
       " './/examples/tabbed_app.py',\n",
       " './/examples/test_window.py',\n",
       " './/LICENSE',\n",
       " './/README.md',\n",
       " './/setup.py',\n",
       " './/simplegui/core.py',\n",
       " './/simplegui/events.py',\n",
       " './/simplegui/layout.py',\n",
       " './/simplegui/platform.py',\n",
       " './/simplegui/themes.py',\n",
       " './/simplegui/__init__.py',\n",
       " './/simplegui/__pycache__/core.cpython-310.pyc',\n",
       " './/simplegui/__pycache__/__init__.cpython-310.pyc',\n",
       " './/test.ipynb',\n",
       " './/tests/test_core.py']"
      ]
     },
     "execution_count": 8,
     "metadata": {},
     "output_type": "execute_result"
    }
   ],
   "source": [
    "print_folder_tree('./')"
   ]
  },
  {
   "cell_type": "code",
   "execution_count": null,
   "metadata": {},
   "outputs": [],
   "source": []
  }
 ],
 "metadata": {
  "kernelspec": {
   "display_name": "Python 3",
   "language": "python",
   "name": "python3"
  },
  "language_info": {
   "codemirror_mode": {
    "name": "ipython",
    "version": 3
   },
   "file_extension": ".py",
   "mimetype": "text/x-python",
   "name": "python",
   "nbconvert_exporter": "python",
   "pygments_lexer": "ipython3",
   "version": "3.10.6"
  }
 },
 "nbformat": 4,
 "nbformat_minor": 2
}
